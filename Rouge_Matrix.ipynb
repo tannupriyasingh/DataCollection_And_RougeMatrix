{
 "cells": [
  {
   "cell_type": "code",
   "execution_count": 144,
   "metadata": {},
   "outputs": [],
   "source": [
    "import pandas as pd\n",
    "import nltk\n",
    "from nltk.tokenize import sent_tokenize\n",
    "from nltk.corpus import stopwords\n",
    "stop_words = stopwords.words('english')\n",
    "import re\n",
    "from nltk.stem import PorterStemmer\n",
    "from sumeval.metrics.rouge import RougeCalculator"
   ]
  },
  {
   "cell_type": "code",
   "execution_count": 145,
   "metadata": {},
   "outputs": [],
   "source": [
    "dataset_reference = pd.read_csv('acled_data.tsv', delimiter ='\\t', quoting = 3)\n",
    "dataset_summary = pd.read_csv('data_collected.tsv', delimiter='\\t', quoting= 3)"
   ]
  },
  {
   "cell_type": "code",
   "execution_count": 146,
   "metadata": {},
   "outputs": [],
   "source": [
    "ref_data = list()\n",
    "summary_data = list()\n",
    "for i in range(0,dataset_reference['notes'].size):\n",
    "    acled_summary = re.sub('[^a-zA-z&]',' ',dataset_reference['notes'][i])\n",
    "    auto_summary = re.sub('[^a-zA-z&]',' ',dataset_summary['Text'][i])\n",
    "    acled_summary = acled_summary.lower()\n",
    "    auto_summary = auto_summary.lower()\n",
    "    acled_summary = acled_summary.split()\n",
    "    auto_summary = auto_summary.split()\n",
    "    ps= PorterStemmer();\n",
    "    #ACLED Summary\n",
    "    acled_summary= [ps.stem(word) for word in acled_summary if not word in set(stopwords.words('english'))]\n",
    "    acled_summary= ' '.join(acled_summary)\n",
    "    ref_data.append(acled_summary)    \n",
    "    #Automated Summary\n",
    "    auto_summary= [ps.stem(w) for w in auto_summary if not w in set(stopwords.words('english'))]\n",
    "    auto_summary= ' '.join(auto_summary)\n",
    "    summary_data.append(auto_summary)\n",
    "#Cleaning ACLED Data\n",
    "for i in range(0, len(ref_data)):\n",
    "    ref_data[i] = str(ref_data[i]).replace(\"size report\" , \"\")\n",
    "    ref_data[i] = str(ref_data[i]).replace(\"[]\" , \"\")   \n",
    "rouge = RougeCalculator(stopwords=True, lang=\"en\")"
   ]
  },
  {
   "cell_type": "code",
   "execution_count": 147,
   "metadata": {},
   "outputs": [
    {
     "name": "stdout",
     "output_type": "stream",
     "text": [
      "0.25582357745688056\n"
     ]
    }
   ],
   "source": [
    "sum_of_rouge_score = 0\n",
    "avg_score = 0\n",
    "for i in range (0, len(ref_data)):\n",
    "    rouge_1 = rouge.rouge_n(summary = summary_data[i], references = ref_data[i], n=1)\n",
    "    sum_of_rouge_score += rouge_1\n",
    "avg_score = (sum_of_rouge_score/(len(ref_data)))\n",
    "print(avg_score)"
   ]
  },
  {
   "cell_type": "code",
   "execution_count": null,
   "metadata": {},
   "outputs": [],
   "source": []
  }
 ],
 "metadata": {
  "kernelspec": {
   "display_name": "Python 3",
   "language": "python",
   "name": "python3"
  },
  "language_info": {
   "codemirror_mode": {
    "name": "ipython",
    "version": 3
   },
   "file_extension": ".py",
   "mimetype": "text/x-python",
   "name": "python",
   "nbconvert_exporter": "python",
   "pygments_lexer": "ipython3",
   "version": "3.7.3"
  }
 },
 "nbformat": 4,
 "nbformat_minor": 2
}
